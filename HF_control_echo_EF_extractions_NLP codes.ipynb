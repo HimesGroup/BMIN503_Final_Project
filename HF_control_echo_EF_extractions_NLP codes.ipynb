{
 "cells": [
  {
   "cell_type": "code",
   "execution_count": 2,
   "id": "5e48af31",
   "metadata": {},
   "outputs": [],
   "source": [
    "#import standard python packages for processing texts\n",
    "import os, sys, re, glob\n",
    "import pandas as pd\n",
    "\n",
    "#import custom scripts for processing LVEF from texts from \n",
    "#Wagholikar KB, Fischer CM, Goodson A, Herrick CD, Rees M, \n",
    "#Toscano E, MacRae CA, Scirica BM, Desai AS, Murphy SN. \n",
    "#Extraction of Ejection Fraction from Echocardiography Notes for \n",
    "#Constructing a Cohort of Patients having Heart Failure \n",
    "#with reduced Ejection Fraction (HFrEF). \n",
    "#J Med Syst. 2018 Sep 25;42(11):209. \n",
    "#doi: 10.1007/s10916-018-1066-7. PMID: 30255347; PMCID: PMC6153777.\n",
    "\n",
    "#https://github.com/waghsk/lvef-paper\n",
    "\n",
    "from lvef_paper_master.echoNonTabularEF import echoNonTabularEF \n",
    "from lvef_paper_master.getSectionHeaders import isLineAHeader, getParas, getEFParaHeads\n",
    "from lvef_paper_master.isReducedEF import efDataType, isReducedEF"
   ]
  },
  {
   "cell_type": "code",
   "execution_count": 3,
   "id": "50e5ed50",
   "metadata": {},
   "outputs": [
    {
     "data": {
      "text/plain": [
       "['/Users/godefroychery/Desktop/LVEF_NLP/LVEF_ECHO_implementation_with_python/HF_control_echo/70150_156140_59654_Echo_noHF_.txt',\n",
       " '/Users/godefroychery/Desktop/LVEF_NLP/LVEF_ECHO_implementation_with_python/HF_control_echo/31038_174978_59653_Echo_noHF_.txt',\n",
       " '/Users/godefroychery/Desktop/LVEF_NLP/LVEF_ECHO_implementation_with_python/HF_control_echo/5771_185291_59656_Echo_noHF_.txt',\n",
       " '/Users/godefroychery/Desktop/LVEF_NLP/LVEF_ECHO_implementation_with_python/HF_control_echo/54190_188571_59655_Echo_noHF_.txt']"
      ]
     },
     "execution_count": 3,
     "metadata": {},
     "output_type": "execute_result"
    }
   ],
   "source": [
    "#get txts from directory\n",
    "txts=glob.glob(os.getcwd()+\"/HF_control_echo/*.txt\")\n",
    "txts"
   ]
  },
  {
   "cell_type": "code",
   "execution_count": 4,
   "id": "47228117",
   "metadata": {},
   "outputs": [
    {
     "data": {
      "text/html": [
       "<div>\n",
       "<style scoped>\n",
       "    .dataframe tbody tr th:only-of-type {\n",
       "        vertical-align: middle;\n",
       "    }\n",
       "\n",
       "    .dataframe tbody tr th {\n",
       "        vertical-align: top;\n",
       "    }\n",
       "\n",
       "    .dataframe thead th {\n",
       "        text-align: right;\n",
       "    }\n",
       "</style>\n",
       "<table border=\"1\" class=\"dataframe\">\n",
       "  <thead>\n",
       "    <tr style=\"text-align: right;\">\n",
       "      <th></th>\n",
       "      <th>Result Report</th>\n",
       "    </tr>\n",
       "  </thead>\n",
       "  <tbody>\n",
       "    <tr>\n",
       "      <th>0</th>\n",
       "      <td>Patient Name:</td>\n",
       "    </tr>\n",
       "    <tr>\n",
       "      <th>1</th>\n",
       "      <td>Ordering Prov:</td>\n",
       "    </tr>\n",
       "    <tr>\n",
       "      <th>2</th>\n",
       "      <td>Primary Care Physician:</td>\n",
       "    </tr>\n",
       "    <tr>\n",
       "      <th>3</th>\n",
       "      <td>Reason For Exam:</td>\n",
       "    </tr>\n",
       "    <tr>\n",
       "      <th>4</th>\n",
       "      <td>Result Status:</td>\n",
       "    </tr>\n",
       "    <tr>\n",
       "      <th>...</th>\n",
       "      <td>...</td>\n",
       "    </tr>\n",
       "    <tr>\n",
       "      <th>63</th>\n",
       "      <td>Left Atrium - Post</td>\n",
       "    </tr>\n",
       "    <tr>\n",
       "      <th>64</th>\n",
       "      <td>Pulmonic Valve - Post</td>\n",
       "    </tr>\n",
       "    <tr>\n",
       "      <th>65</th>\n",
       "      <td>Interatrial Septum - Post</td>\n",
       "    </tr>\n",
       "    <tr>\n",
       "      <th>66</th>\n",
       "      <td>Pericardium - Post</td>\n",
       "    </tr>\n",
       "    <tr>\n",
       "      <th>67</th>\n",
       "      <td>Next Follow-Up</td>\n",
       "    </tr>\n",
       "  </tbody>\n",
       "</table>\n",
       "<p>68 rows × 1 columns</p>\n",
       "</div>"
      ],
      "text/plain": [
       "                 Result Report \n",
       "0                 Patient Name:\n",
       "1                Ordering Prov:\n",
       "2       Primary Care Physician:\n",
       "3              Reason For Exam:\n",
       "4                Result Status:\n",
       "..                          ...\n",
       "63          Left Atrium - Post \n",
       "64       Pulmonic Valve - Post \n",
       "65   Interatrial Septum - Post \n",
       "66          Pericardium - Post \n",
       "67               Next Follow-Up\n",
       "\n",
       "[68 rows x 1 columns]"
      ]
     },
     "execution_count": 4,
     "metadata": {},
     "output_type": "execute_result"
    }
   ],
   "source": [
    "#get headers from csv\n",
    "headerArr=pd.read_csv(os.getcwd()+\"/lvef_paper_master/headers.csv\", header=0)\n",
    "headerArr"
   ]
  },
  {
   "cell_type": "code",
   "execution_count": 5,
   "id": "c39d57c9",
   "metadata": {},
   "outputs": [],
   "source": [
    "#extract the EFs from texts\n",
    "\n",
    "with open(os.getcwd()+\"/HF_control_echo_EF_extractions_NLP.txt\", \"w\") as file_out:\n",
    "    \n",
    "    file_out.write(f\"File name\\tLVEF string\\tLVEF_value\\tPat note\\n\")\n",
    "    \n",
    "    for txt_file in txts:\n",
    "        with open(txt_file, \"r\") as txt:\n",
    "\n",
    "            path, name = os.path.split(txt_file)\n",
    "\n",
    "            txt=txt.read()\n",
    "            LVEF_str, LVEF_value, pat_type = echoNonTabularEF(txt)\n",
    "            txt=txt.replace(\"\\n\", \" \")\n",
    "            txt=txt.replace(\"\\t\", \" \")\n",
    "            \n",
    "            file_out.write(f\"{name}\\t{LVEF_str}\\t{LVEF_value}\\t{txt}\\n\")"
   ]
  },
  {
   "cell_type": "code",
   "execution_count": null,
   "id": "2843b3d8",
   "metadata": {},
   "outputs": [],
   "source": []
  }
 ],
 "metadata": {
  "kernelspec": {
   "display_name": "Python 3 (ipykernel)",
   "language": "python",
   "name": "python3"
  },
  "language_info": {
   "codemirror_mode": {
    "name": "ipython",
    "version": 3
   },
   "file_extension": ".py",
   "mimetype": "text/x-python",
   "name": "python",
   "nbconvert_exporter": "python",
   "pygments_lexer": "ipython3",
   "version": "3.9.15"
  }
 },
 "nbformat": 4,
 "nbformat_minor": 5
}
